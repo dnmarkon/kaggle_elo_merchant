{
 "cells": [
  {
   "cell_type": "code",
   "execution_count": 1,
   "metadata": {
    "collapsed": false
   },
   "outputs": [],
   "source": [
    "import pandas as pd\n",
    "import os\n",
    "\n",
    "current_dir = os.getcwd()\n",
    "train_path = os.path.join(current_dir, os.pardir, 'data', 'raw', 'train.csv') "
   ]
  },
  {
   "cell_type": "code",
   "execution_count": 2,
   "metadata": {
    "collapsed": false
   },
   "outputs": [
    {
     "data": {
      "text/html": [
       "<div>\n",
       "<style scoped>\n",
       "    .dataframe tbody tr th:only-of-type {\n",
       "        vertical-align: middle;\n",
       "    }\n",
       "\n",
       "    .dataframe tbody tr th {\n",
       "        vertical-align: top;\n",
       "    }\n",
       "\n",
       "    .dataframe thead th {\n",
       "        text-align: right;\n",
       "    }\n",
       "</style>\n",
       "<table border=\"1\" class=\"dataframe\">\n",
       "  <thead>\n",
       "    <tr style=\"text-align: right;\">\n",
       "      <th></th>\n",
       "      <th>first_active_month</th>\n",
       "      <th>card_id</th>\n",
       "      <th>feature_1</th>\n",
       "      <th>feature_2</th>\n",
       "      <th>feature_3</th>\n",
       "      <th>target</th>\n",
       "    </tr>\n",
       "  </thead>\n",
       "  <tbody>\n",
       "    <tr>\n",
       "      <th>0</th>\n",
       "      <td>2017-06</td>\n",
       "      <td>C_ID_92a2005557</td>\n",
       "      <td>5</td>\n",
       "      <td>2</td>\n",
       "      <td>1</td>\n",
       "      <td>-0.820283</td>\n",
       "    </tr>\n",
       "    <tr>\n",
       "      <th>1</th>\n",
       "      <td>2017-01</td>\n",
       "      <td>C_ID_3d0044924f</td>\n",
       "      <td>4</td>\n",
       "      <td>1</td>\n",
       "      <td>0</td>\n",
       "      <td>0.392913</td>\n",
       "    </tr>\n",
       "    <tr>\n",
       "      <th>2</th>\n",
       "      <td>2016-08</td>\n",
       "      <td>C_ID_d639edf6cd</td>\n",
       "      <td>2</td>\n",
       "      <td>2</td>\n",
       "      <td>0</td>\n",
       "      <td>0.688056</td>\n",
       "    </tr>\n",
       "    <tr>\n",
       "      <th>3</th>\n",
       "      <td>2017-09</td>\n",
       "      <td>C_ID_186d6a6901</td>\n",
       "      <td>4</td>\n",
       "      <td>3</td>\n",
       "      <td>0</td>\n",
       "      <td>0.142495</td>\n",
       "    </tr>\n",
       "    <tr>\n",
       "      <th>4</th>\n",
       "      <td>2017-11</td>\n",
       "      <td>C_ID_cdbd2c0db2</td>\n",
       "      <td>1</td>\n",
       "      <td>3</td>\n",
       "      <td>0</td>\n",
       "      <td>-0.159749</td>\n",
       "    </tr>\n",
       "  </tbody>\n",
       "</table>\n",
       "</div>"
      ],
      "text/plain": [
       "  first_active_month          card_id  feature_1  feature_2  feature_3  \\\n",
       "0            2017-06  C_ID_92a2005557          5          2          1   \n",
       "1            2017-01  C_ID_3d0044924f          4          1          0   \n",
       "2            2016-08  C_ID_d639edf6cd          2          2          0   \n",
       "3            2017-09  C_ID_186d6a6901          4          3          0   \n",
       "4            2017-11  C_ID_cdbd2c0db2          1          3          0   \n",
       "\n",
       "     target  \n",
       "0 -0.820283  \n",
       "1  0.392913  \n",
       "2  0.688056  \n",
       "3  0.142495  \n",
       "4 -0.159749  "
      ]
     },
     "execution_count": 2,
     "metadata": {},
     "output_type": "execute_result"
    }
   ],
   "source": [
    "df = pd.read_csv(train_path)\n",
    "df.head()"
   ]
  },
  {
   "cell_type": "code",
   "execution_count": 3,
   "metadata": {
    "collapsed": false
   },
   "outputs": [
    {
     "data": {
      "text/plain": [
       "201917"
      ]
     },
     "execution_count": 3,
     "metadata": {},
     "output_type": "execute_result"
    }
   ],
   "source": [
    "len(df)"
   ]
  },
  {
   "cell_type": "code",
   "execution_count": 4,
   "metadata": {
    "collapsed": false
   },
   "outputs": [
    {
     "data": {
      "text/plain": [
       "201917"
      ]
     },
     "execution_count": 4,
     "metadata": {},
     "output_type": "execute_result"
    }
   ],
   "source": [
    "len(df.dropna())"
   ]
  },
  {
   "cell_type": "code",
   "execution_count": 5,
   "metadata": {
    "collapsed": false
   },
   "outputs": [],
   "source": [
    "df['first_active_month'] = pd.to_datetime(df['first_active_month'], format='%Y-%m')"
   ]
  },
  {
   "cell_type": "code",
   "execution_count": 6,
   "metadata": {
    "collapsed": false
   },
   "outputs": [
    {
     "data": {
      "text/plain": [
       "Timestamp('2011-11-01 00:00:00')"
      ]
     },
     "execution_count": 6,
     "metadata": {},
     "output_type": "execute_result"
    }
   ],
   "source": [
    "df['first_active_month'].min()"
   ]
  },
  {
   "cell_type": "code",
   "execution_count": 7,
   "metadata": {
    "collapsed": false
   },
   "outputs": [
    {
     "data": {
      "text/plain": [
       "Timestamp('2018-02-01 00:00:00')"
      ]
     },
     "execution_count": 7,
     "metadata": {},
     "output_type": "execute_result"
    }
   ],
   "source": [
    "df['first_active_month'].max()"
   ]
  },
  {
   "cell_type": "code",
   "execution_count": 43,
   "metadata": {
    "collapsed": false
   },
   "outputs": [],
   "source": [
    "%matplotlib inline\n",
    "\n",
    "import matplotlib\n",
    "import matplotlib.pyplot as plt\n",
    "\n",
    "def plot_counts(df, by, column):\n",
    "    plt.plot(df.groupby([by]).count()[column])"
   ]
  },
  {
   "cell_type": "code",
   "execution_count": 44,
   "metadata": {
    "collapsed": false
   },
   "outputs": [
    {
     "data": {
      "image/png": "[encoded data removed]",
      "text/plain": [
       "<matplotlib.figure.Figure at 0x1a3d4cb6f98>"
      ]
     },
     "metadata": {},
     "output_type": "display_data"
    }
   ],
   "source": [
    "plot_counts(df,'first_active_month','card_id')"
   ]
  },
  {
   "cell_type": "code",
   "execution_count": 77,
   "metadata": {
    "collapsed": false
   },
   "outputs": [
    {
     "data": {
      "text/plain": [
       "<matplotlib.axes._subplots.AxesSubplot at 0x1a55df7ed30>"
      ]
     },
     "execution_count": 77,
     "metadata": {},
     "output_type": "execute_result"
    },
    {
     "data": {
      "image/png": "[encoded data removed]",
      "text/plain": [
       "<matplotlib.figure.Figure at 0x1a3d5728c18>"
      ]
     },
     "metadata": {},
     "output_type": "display_data"
    }
   ],
   "source": [
    "df.feature_1.value_counts().plot(kind='bar')"
   ]
  },
  {
   "cell_type": "code",
   "execution_count": 78,
   "metadata": {
    "collapsed": false
   },
   "outputs": [
    {
     "data": {
      "text/plain": [
       "<matplotlib.axes._subplots.AxesSubplot at 0x1a55ea1e358>"
      ]
     },
     "execution_count": 78,
     "metadata": {},
     "output_type": "execute_result"
    },
    {
     "data": {
      "image/png": "[encoded data removed]",
      "text/plain": [
       "<matplotlib.figure.Figure at 0x1a55ea2a6a0>"
      ]
     },
     "metadata": {},
     "output_type": "display_data"
    }
   ],
   "source": [
    "df.feature_2.value_counts().plot(kind='bar')"
   ]
  },
  {
   "cell_type": "code",
   "execution_count": 79,
   "metadata": {
    "collapsed": false
   },
   "outputs": [
    {
     "data": {
      "text/plain": [
       "<matplotlib.axes._subplots.AxesSubplot at 0x1a55ea4add8>"
      ]
     },
     "execution_count": 79,
     "metadata": {},
     "output_type": "execute_result"
    },
    {
     "data": {
      "image/png": "[encoded data removed]",
      "text/plain": [
       "<matplotlib.figure.Figure at 0x1a3d4d59a58>"
      ]
     },
     "metadata": {},
     "output_type": "display_data"
    }
   ],
   "source": [
    "df.feature_3.value_counts().plot(kind='bar')"
   ]
  },
  {
   "cell_type": "code",
   "execution_count": 10,
   "metadata": {
    "collapsed": false
   },
   "outputs": [],
   "source": [
    "historical_path = os.path.join(current_dir, os.pardir, 'data', 'raw', 'historical_transactions.csv')\n",
    "hist_trans = pd.read_csv(historical_path)"
   ]
  },
  {
   "cell_type": "code",
   "execution_count": 11,
   "metadata": {
    "collapsed": false
   },
   "outputs": [
    {
     "data": {
      "text/html": [
       "<div>\n",
       "<style scoped>\n",
       "    .dataframe tbody tr th:only-of-type {\n",
       "        vertical-align: middle;\n",
       "    }\n",
       "\n",
       "    .dataframe tbody tr th {\n",
       "        vertical-align: top;\n",
       "    }\n",
       "\n",
       "    .dataframe thead th {\n",
       "        text-align: right;\n",
       "    }\n",
       "</style>\n",
       "<table border=\"1\" class=\"dataframe\">\n",
       "  <thead>\n",
       "    <tr style=\"text-align: right;\">\n",
       "      <th></th>\n",
       "      <th>authorized_flag</th>\n",
       "      <th>card_id</th>\n",
       "      <th>city_id</th>\n",
       "      <th>category_1</th>\n",
       "      <th>installments</th>\n",
       "      <th>category_3</th>\n",
       "      <th>merchant_category_id</th>\n",
       "      <th>merchant_id</th>\n",
       "      <th>month_lag</th>\n",
       "      <th>purchase_amount</th>\n",
       "      <th>purchase_date</th>\n",
       "      <th>category_2</th>\n",
       "      <th>state_id</th>\n",
       "      <th>subsector_id</th>\n",
       "    </tr>\n",
       "  </thead>\n",
       "  <tbody>\n",
       "    <tr>\n",
       "      <th>0</th>\n",
       "      <td>Y</td>\n",
       "      <td>C_ID_4e6213e9bc</td>\n",
       "      <td>88</td>\n",
       "      <td>N</td>\n",
       "      <td>0</td>\n",
       "      <td>A</td>\n",
       "      <td>80</td>\n",
       "      <td>M_ID_e020e9b302</td>\n",
       "      <td>-8</td>\n",
       "      <td>-0.703331</td>\n",
       "      <td>2017-06-25 15:33:07</td>\n",
       "      <td>1.0</td>\n",
       "      <td>16</td>\n",
       "      <td>37</td>\n",
       "    </tr>\n",
       "    <tr>\n",
       "      <th>1</th>\n",
       "      <td>Y</td>\n",
       "      <td>C_ID_4e6213e9bc</td>\n",
       "      <td>88</td>\n",
       "      <td>N</td>\n",
       "      <td>0</td>\n",
       "      <td>A</td>\n",
       "      <td>367</td>\n",
       "      <td>M_ID_86ec983688</td>\n",
       "      <td>-7</td>\n",
       "      <td>-0.733128</td>\n",
       "      <td>2017-07-15 12:10:45</td>\n",
       "      <td>1.0</td>\n",
       "      <td>16</td>\n",
       "      <td>16</td>\n",
       "    </tr>\n",
       "    <tr>\n",
       "      <th>2</th>\n",
       "      <td>Y</td>\n",
       "      <td>C_ID_4e6213e9bc</td>\n",
       "      <td>88</td>\n",
       "      <td>N</td>\n",
       "      <td>0</td>\n",
       "      <td>A</td>\n",
       "      <td>80</td>\n",
       "      <td>M_ID_979ed661fc</td>\n",
       "      <td>-6</td>\n",
       "      <td>-0.720386</td>\n",
       "      <td>2017-08-09 22:04:29</td>\n",
       "      <td>1.0</td>\n",
       "      <td>16</td>\n",
       "      <td>37</td>\n",
       "    </tr>\n",
       "    <tr>\n",
       "      <th>3</th>\n",
       "      <td>Y</td>\n",
       "      <td>C_ID_4e6213e9bc</td>\n",
       "      <td>88</td>\n",
       "      <td>N</td>\n",
       "      <td>0</td>\n",
       "      <td>A</td>\n",
       "      <td>560</td>\n",
       "      <td>M_ID_e6d5ae8ea6</td>\n",
       "      <td>-5</td>\n",
       "      <td>-0.735352</td>\n",
       "      <td>2017-09-02 10:06:26</td>\n",
       "      <td>1.0</td>\n",
       "      <td>16</td>\n",
       "      <td>34</td>\n",
       "    </tr>\n",
       "    <tr>\n",
       "      <th>4</th>\n",
       "      <td>Y</td>\n",
       "      <td>C_ID_4e6213e9bc</td>\n",
       "      <td>88</td>\n",
       "      <td>N</td>\n",
       "      <td>0</td>\n",
       "      <td>A</td>\n",
       "      <td>80</td>\n",
       "      <td>M_ID_e020e9b302</td>\n",
       "      <td>-11</td>\n",
       "      <td>-0.722865</td>\n",
       "      <td>2017-03-10 01:14:19</td>\n",
       "      <td>1.0</td>\n",
       "      <td>16</td>\n",
       "      <td>37</td>\n",
       "    </tr>\n",
       "  </tbody>\n",
       "</table>\n",
       "</div>"
      ],
      "text/plain": [
       "  authorized_flag          card_id  city_id category_1  installments  \\\n",
       "0               Y  C_ID_4e6213e9bc       88          N             0   \n",
       "1               Y  C_ID_4e6213e9bc       88          N             0   \n",
       "2               Y  C_ID_4e6213e9bc       88          N             0   \n",
       "3               Y  C_ID_4e6213e9bc       88          N             0   \n",
       "4               Y  C_ID_4e6213e9bc       88          N             0   \n",
       "\n",
       "  category_3  merchant_category_id      merchant_id  month_lag  \\\n",
       "0          A                    80  M_ID_e020e9b302         -8   \n",
       "1          A                   367  M_ID_86ec983688         -7   \n",
       "2          A                    80  M_ID_979ed661fc         -6   \n",
       "3          A                   560  M_ID_e6d5ae8ea6         -5   \n",
       "4          A                    80  M_ID_e020e9b302        -11   \n",
       "\n",
       "   purchase_amount        purchase_date  category_2  state_id  subsector_id  \n",
       "0        -0.703331  2017-06-25 15:33:07         1.0        16            37  \n",
       "1        -0.733128  2017-07-15 12:10:45         1.0        16            16  \n",
       "2        -0.720386  2017-08-09 22:04:29         1.0        16            37  \n",
       "3        -0.735352  2017-09-02 10:06:26         1.0        16            34  \n",
       "4        -0.722865  2017-03-10 01:14:19         1.0        16            37  "
      ]
     },
     "execution_count": 11,
     "metadata": {},
     "output_type": "execute_result"
    }
   ],
   "source": [
    "hist_trans.head()"
   ]
  },
  {
   "cell_type": "code",
   "execution_count": 30,
   "metadata": {
    "collapsed": false
   },
   "outputs": [
    {
     "data": {
      "text/plain": [
       "29112361"
      ]
     },
     "execution_count": 30,
     "metadata": {},
     "output_type": "execute_result"
    }
   ],
   "source": [
    "len(hist_trans)"
   ]
  },
  {
   "cell_type": "code",
   "execution_count": 46,
   "metadata": {
    "collapsed": false
   },
   "outputs": [
    {
     "data": {
      "text/plain": [
       "<matplotlib.axes._subplots.AxesSubplot at 0x1a3d4e78048>"
      ]
     },
     "execution_count": 46,
     "metadata": {},
     "output_type": "execute_result"
    },
    {
     "data": {
      "image/png": "[encoded data removed]",
      "text/plain": [
       "<matplotlib.figure.Figure at 0x1a3d5044080>"
      ]
     },
     "metadata": {},
     "output_type": "display_data"
    }
   ],
   "source": [
    "hist_trans['authorized_flag'].value_counts().plot(kind='bar')"
   ]
  },
  {
   "cell_type": "code",
   "execution_count": 13,
   "metadata": {
    "collapsed": false
   },
   "outputs": [
    {
     "data": {
      "text/plain": [
       "325540"
      ]
     },
     "execution_count": 13,
     "metadata": {},
     "output_type": "execute_result"
    }
   ],
   "source": [
    "hist_trans['card_id'].nunique()"
   ]
  },
  {
   "cell_type": "code",
   "execution_count": 14,
   "metadata": {
    "collapsed": false
   },
   "outputs": [
    {
     "data": {
      "text/plain": [
       "201917"
      ]
     },
     "execution_count": 14,
     "metadata": {},
     "output_type": "execute_result"
    }
   ],
   "source": [
    "df['card_id'].nunique()"
   ]
  },
  {
   "cell_type": "code",
   "execution_count": 18,
   "metadata": {
    "collapsed": false
   },
   "outputs": [
    {
     "data": {
      "text/html": [
       "<div>\n",
       "<style scoped>\n",
       "    .dataframe tbody tr th:only-of-type {\n",
       "        vertical-align: middle;\n",
       "    }\n",
       "\n",
       "    .dataframe tbody tr th {\n",
       "        vertical-align: top;\n",
       "    }\n",
       "\n",
       "    .dataframe thead th {\n",
       "        text-align: right;\n",
       "    }\n",
       "</style>\n",
       "<table border=\"1\" class=\"dataframe\">\n",
       "  <thead>\n",
       "    <tr style=\"text-align: right;\">\n",
       "      <th></th>\n",
       "      <th>first_active_month</th>\n",
       "      <th>card_id</th>\n",
       "      <th>feature_1</th>\n",
       "      <th>feature_2</th>\n",
       "      <th>feature_3</th>\n",
       "      <th>target</th>\n",
       "    </tr>\n",
       "  </thead>\n",
       "  <tbody>\n",
       "  </tbody>\n",
       "</table>\n",
       "</div>"
      ],
      "text/plain": [
       "Empty DataFrame\n",
       "Columns: [first_active_month, card_id, feature_1, feature_2, feature_3, target]\n",
       "Index: []"
      ]
     },
     "execution_count": 18,
     "metadata": {},
     "output_type": "execute_result"
    }
   ],
   "source": [
    "df[~df.card_id.isin(hist_trans['card_id'])] "
   ]
  },
  {
   "cell_type": "code",
   "execution_count": 52,
   "metadata": {
    "collapsed": false
   },
   "outputs": [
    {
     "data": {
      "text/plain": [
       "308"
      ]
     },
     "execution_count": 52,
     "metadata": {},
     "output_type": "execute_result"
    }
   ],
   "source": [
    "hist_trans['city_id'].nunique()"
   ]
  },
  {
   "cell_type": "code",
   "execution_count": 48,
   "metadata": {
    "collapsed": false
   },
   "outputs": [
    {
     "data": {
      "text/plain": [
       "<matplotlib.axes._subplots.AxesSubplot at 0x1a3d5153710>"
      ]
     },
     "execution_count": 48,
     "metadata": {},
     "output_type": "execute_result"
    },
    {
     "data": {
      "image/png": "[encoded data removed]",
      "text/plain": [
       "<matplotlib.figure.Figure at 0x1a3d5544d68>"
      ]
     },
     "metadata": {},
     "output_type": "display_data"
    }
   ],
   "source": [
    "hist_trans.category_1.unique()\n",
    "hist_trans['category_1'].value_counts().plot(kind='bar')"
   ]
  },
  {
   "cell_type": "code",
   "execution_count": 33,
   "metadata": {
    "collapsed": false
   },
   "outputs": [
    {
     "data": {
      "text/plain": [
       "[<matplotlib.lines.Line2D at 0x1a3d462fcc0>]"
      ]
     },
     "execution_count": 33,
     "metadata": {},
     "output_type": "execute_result"
    },
    {
     "data": {
      "image/png": "[encoded data removed]",
      "text/plain": [
       "<matplotlib.figure.Figure at 0x1a3d45d5fd0>"
      ]
     },
     "metadata": {},
     "output_type": "display_data"
    }
   ],
   "source": [
    "install_counts = hist_trans[(hist_trans.installments < 999)].groupby(['installments']).count()['card_id']\n",
    "plt.plot(install_counts)"
   ]
  },
  {
   "cell_type": "code",
   "execution_count": 24,
   "metadata": {
    "collapsed": false
   },
   "outputs": [
    {
     "data": {
      "text/plain": [
       "array([  0,   1,   5,   3,   4,   2,  -1,  10,   6,  12,   8,   7,   9,\n",
       "        11, 999], dtype=int64)"
      ]
     },
     "execution_count": 24,
     "metadata": {},
     "output_type": "execute_result"
    }
   ],
   "source": [
    "hist_trans.installments.unique()"
   ]
  },
  {
   "cell_type": "code",
   "execution_count": 49,
   "metadata": {
    "collapsed": false
   },
   "outputs": [
    {
     "data": {
      "text/plain": [
       "<matplotlib.axes._subplots.AxesSubplot at 0x1a3d58b6518>"
      ]
     },
     "execution_count": 49,
     "metadata": {},
     "output_type": "execute_result"
    },
    {
     "data": {
      "image/png": "[encoded data removed]",
      "text/plain": [
       "<matplotlib.figure.Figure at 0x1a3d58c4da0>"
      ]
     },
     "metadata": {},
     "output_type": "display_data"
    }
   ],
   "source": [
    "hist_trans.category_2.unique()\n",
    "hist_trans['category_2'].value_counts().plot(kind='bar')"
   ]
  },
  {
   "cell_type": "code",
   "execution_count": 50,
   "metadata": {
    "collapsed": false
   },
   "outputs": [
    {
     "data": {
      "text/plain": [
       "<matplotlib.axes._subplots.AxesSubplot at 0x1a3d5918ac8>"
      ]
     },
     "execution_count": 50,
     "metadata": {},
     "output_type": "execute_result"
    },
    {
     "data": {
      "image/png": "[encoded data removed]",
      "text/plain": [
       "<matplotlib.figure.Figure at 0x1a3d50b7320>"
      ]
     },
     "metadata": {},
     "output_type": "display_data"
    }
   ],
   "source": [
    "hist_trans.category_3.unique()\n",
    "hist_trans['category_3'].value_counts().plot(kind='bar')"
   ]
  },
  {
   "cell_type": "code",
   "execution_count": 37,
   "metadata": {
    "collapsed": false
   },
   "outputs": [
    {
     "data": {
      "text/plain": [
       "327"
      ]
     },
     "execution_count": 37,
     "metadata": {},
     "output_type": "execute_result"
    }
   ],
   "source": [
    "hist_trans.merchant_category_id.nunique()"
   ]
  },
  {
   "cell_type": "code",
   "execution_count": 51,
   "metadata": {
    "collapsed": false
   },
   "outputs": [
    {
     "data": {
      "text/plain": [
       "<matplotlib.axes._subplots.AxesSubplot at 0x1a3d593d6d8>"
      ]
     },
     "execution_count": 51,
     "metadata": {},
     "output_type": "execute_result"
    },
    {
     "data": {
      "image/png": "[encoded data removed]",
      "text/plain": [
       "<matplotlib.figure.Figure at 0x1a3d59843c8>"
      ]
     },
     "metadata": {},
     "output_type": "display_data"
    }
   ],
   "source": [
    "hist_trans['state_id'].value_counts().plot(kind='bar')"
   ]
  },
  {
   "cell_type": "code",
   "execution_count": 53,
   "metadata": {
    "collapsed": false
   },
   "outputs": [
    {
     "data": {
      "text/plain": [
       "<matplotlib.axes._subplots.AxesSubplot at 0x1a3d59cdf98>"
      ]
     },
     "execution_count": 53,
     "metadata": {},
     "output_type": "execute_result"
    },
    {
     "data": {
      "image/png": "[encoded data removed]",
      "text/plain": [
       "<matplotlib.figure.Figure at 0x1a3d599d400>"
      ]
     },
     "metadata": {},
     "output_type": "display_data"
    }
   ],
   "source": [
    "hist_trans['month_lag'].value_counts().plot(kind='bar')"
   ]
  },
  {
   "cell_type": "code",
   "execution_count": 55,
   "metadata": {
    "collapsed": false
   },
   "outputs": [
    {
     "data": {
      "text/plain": [
       "dtype('O')"
      ]
     },
     "execution_count": 55,
     "metadata": {},
     "output_type": "execute_result"
    }
   ],
   "source": [
    "hist_trans['purchase_date'].dtype"
   ]
  },
  {
   "cell_type": "code",
   "execution_count": 68,
   "metadata": {
    "collapsed": false
   },
   "outputs": [],
   "source": [
    "dates = pd.to_datetime(hist_trans['purchase_date'])"
   ]
  },
  {
   "cell_type": "code",
   "execution_count": 71,
   "metadata": {
    "collapsed": false
   },
   "outputs": [
    {
     "data": {
      "text/plain": [
       "<matplotlib.axes._subplots.AxesSubplot at 0x1a3d4de8be0>"
      ]
     },
     "execution_count": 71,
     "metadata": {},
     "output_type": "execute_result"
    },
    {
     "data": {
      "image/png": "[encoded data removed]",
      "text/plain": [
       "<matplotlib.figure.Figure at 0x1a3d55b5828>"
      ]
     },
     "metadata": {},
     "output_type": "display_data"
    }
   ],
   "source": [
    "hist_trans['purchase_month'] = dates.dt.to_period('M')\n",
    "hist_trans['purchase_month'].value_counts().plot(kind='bar')"
   ]
  },
  {
   "cell_type": "code",
   "execution_count": 73,
   "metadata": {
    "collapsed": true
   },
   "outputs": [],
   "source": [
    "new_merch_path = os.path.join(current_dir, os.pardir, 'data', 'raw', 'new_merchant_transactions.csv') \n",
    "\n",
    "new_merch = pd.read_csv(new_merch_path)"
   ]
  },
  {
   "cell_type": "code",
   "execution_count": 74,
   "metadata": {
    "collapsed": false
   },
   "outputs": [
    {
     "data": {
      "text/html": [
       "<div>\n",
       "<style scoped>\n",
       "    .dataframe tbody tr th:only-of-type {\n",
       "        vertical-align: middle;\n",
       "    }\n",
       "\n",
       "    .dataframe tbody tr th {\n",
       "        vertical-align: top;\n",
       "    }\n",
       "\n",
       "    .dataframe thead th {\n",
       "        text-align: right;\n",
       "    }\n",
       "</style>\n",
       "<table border=\"1\" class=\"dataframe\">\n",
       "  <thead>\n",
       "    <tr style=\"text-align: right;\">\n",
       "      <th></th>\n",
       "      <th>authorized_flag</th>\n",
       "      <th>card_id</th>\n",
       "      <th>city_id</th>\n",
       "      <th>category_1</th>\n",
       "      <th>installments</th>\n",
       "      <th>category_3</th>\n",
       "      <th>merchant_category_id</th>\n",
       "      <th>merchant_id</th>\n",
       "      <th>month_lag</th>\n",
       "      <th>purchase_amount</th>\n",
       "      <th>purchase_date</th>\n",
       "      <th>category_2</th>\n",
       "      <th>state_id</th>\n",
       "      <th>subsector_id</th>\n",
       "    </tr>\n",
       "  </thead>\n",
       "  <tbody>\n",
       "    <tr>\n",
       "      <th>0</th>\n",
       "      <td>Y</td>\n",
       "      <td>C_ID_415bb3a509</td>\n",
       "      <td>107</td>\n",
       "      <td>N</td>\n",
       "      <td>1</td>\n",
       "      <td>B</td>\n",
       "      <td>307</td>\n",
       "      <td>M_ID_b0c793002c</td>\n",
       "      <td>1</td>\n",
       "      <td>-0.557574</td>\n",
       "      <td>2018-03-11 14:57:36</td>\n",
       "      <td>1.0</td>\n",
       "      <td>9</td>\n",
       "      <td>19</td>\n",
       "    </tr>\n",
       "    <tr>\n",
       "      <th>1</th>\n",
       "      <td>Y</td>\n",
       "      <td>C_ID_415bb3a509</td>\n",
       "      <td>140</td>\n",
       "      <td>N</td>\n",
       "      <td>1</td>\n",
       "      <td>B</td>\n",
       "      <td>307</td>\n",
       "      <td>M_ID_88920c89e8</td>\n",
       "      <td>1</td>\n",
       "      <td>-0.569580</td>\n",
       "      <td>2018-03-19 18:53:37</td>\n",
       "      <td>1.0</td>\n",
       "      <td>9</td>\n",
       "      <td>19</td>\n",
       "    </tr>\n",
       "    <tr>\n",
       "      <th>2</th>\n",
       "      <td>Y</td>\n",
       "      <td>C_ID_415bb3a509</td>\n",
       "      <td>330</td>\n",
       "      <td>N</td>\n",
       "      <td>1</td>\n",
       "      <td>B</td>\n",
       "      <td>507</td>\n",
       "      <td>M_ID_ad5237ef6b</td>\n",
       "      <td>2</td>\n",
       "      <td>-0.551037</td>\n",
       "      <td>2018-04-26 14:08:44</td>\n",
       "      <td>1.0</td>\n",
       "      <td>9</td>\n",
       "      <td>14</td>\n",
       "    </tr>\n",
       "    <tr>\n",
       "      <th>3</th>\n",
       "      <td>Y</td>\n",
       "      <td>C_ID_415bb3a509</td>\n",
       "      <td>-1</td>\n",
       "      <td>Y</td>\n",
       "      <td>1</td>\n",
       "      <td>B</td>\n",
       "      <td>661</td>\n",
       "      <td>M_ID_9e84cda3b1</td>\n",
       "      <td>1</td>\n",
       "      <td>-0.671925</td>\n",
       "      <td>2018-03-07 09:43:21</td>\n",
       "      <td>NaN</td>\n",
       "      <td>-1</td>\n",
       "      <td>8</td>\n",
       "    </tr>\n",
       "    <tr>\n",
       "      <th>4</th>\n",
       "      <td>Y</td>\n",
       "      <td>C_ID_ef55cf8d4b</td>\n",
       "      <td>-1</td>\n",
       "      <td>Y</td>\n",
       "      <td>1</td>\n",
       "      <td>B</td>\n",
       "      <td>166</td>\n",
       "      <td>M_ID_3c86fa3831</td>\n",
       "      <td>1</td>\n",
       "      <td>-0.659904</td>\n",
       "      <td>2018-03-22 21:07:53</td>\n",
       "      <td>NaN</td>\n",
       "      <td>-1</td>\n",
       "      <td>29</td>\n",
       "    </tr>\n",
       "  </tbody>\n",
       "</table>\n",
       "</div>"
      ],
      "text/plain": [
       "  authorized_flag          card_id  city_id category_1  installments  \\\n",
       "0               Y  C_ID_415bb3a509      107          N             1   \n",
       "1               Y  C_ID_415bb3a509      140          N             1   \n",
       "2               Y  C_ID_415bb3a509      330          N             1   \n",
       "3               Y  C_ID_415bb3a509       -1          Y             1   \n",
       "4               Y  C_ID_ef55cf8d4b       -1          Y             1   \n",
       "\n",
       "  category_3  merchant_category_id      merchant_id  month_lag  \\\n",
       "0          B                   307  M_ID_b0c793002c          1   \n",
       "1          B                   307  M_ID_88920c89e8          1   \n",
       "2          B                   507  M_ID_ad5237ef6b          2   \n",
       "3          B                   661  M_ID_9e84cda3b1          1   \n",
       "4          B                   166  M_ID_3c86fa3831          1   \n",
       "\n",
       "   purchase_amount        purchase_date  category_2  state_id  subsector_id  \n",
       "0        -0.557574  2018-03-11 14:57:36         1.0         9            19  \n",
       "1        -0.569580  2018-03-19 18:53:37         1.0         9            19  \n",
       "2        -0.551037  2018-04-26 14:08:44         1.0         9            14  \n",
       "3        -0.671925  2018-03-07 09:43:21         NaN        -1             8  \n",
       "4        -0.659904  2018-03-22 21:07:53         NaN        -1            29  "
      ]
     },
     "execution_count": 74,
     "metadata": {},
     "output_type": "execute_result"
    }
   ],
   "source": [
    "new_merch.head()"
   ]
  },
  {
   "cell_type": "code",
   "execution_count": 75,
   "metadata": {
    "collapsed": false
   },
   "outputs": [
    {
     "data": {
      "text/html": [
       "<div>\n",
       "<style scoped>\n",
       "    .dataframe tbody tr th:only-of-type {\n",
       "        vertical-align: middle;\n",
       "    }\n",
       "\n",
       "    .dataframe tbody tr th {\n",
       "        vertical-align: top;\n",
       "    }\n",
       "\n",
       "    .dataframe thead th {\n",
       "        text-align: right;\n",
       "    }\n",
       "</style>\n",
       "<table border=\"1\" class=\"dataframe\">\n",
       "  <thead>\n",
       "    <tr style=\"text-align: right;\">\n",
       "      <th></th>\n",
       "      <th>authorized_flag</th>\n",
       "      <th>card_id</th>\n",
       "      <th>city_id</th>\n",
       "      <th>category_1</th>\n",
       "      <th>installments</th>\n",
       "      <th>category_3</th>\n",
       "      <th>merchant_category_id</th>\n",
       "      <th>merchant_id</th>\n",
       "      <th>month_lag</th>\n",
       "      <th>purchase_amount</th>\n",
       "      <th>purchase_date</th>\n",
       "      <th>category_2</th>\n",
       "      <th>state_id</th>\n",
       "      <th>subsector_id</th>\n",
       "    </tr>\n",
       "  </thead>\n",
       "  <tbody>\n",
       "  </tbody>\n",
       "</table>\n",
       "</div>"
      ],
      "text/plain": [
       "Empty DataFrame\n",
       "Columns: [authorized_flag, card_id, city_id, category_1, installments, category_3, merchant_category_id, merchant_id, month_lag, purchase_amount, purchase_date, category_2, state_id, subsector_id]\n",
       "Index: []"
      ]
     },
     "execution_count": 75,
     "metadata": {},
     "output_type": "execute_result"
    }
   ],
   "source": [
    "new_merch[~new_merch.card_id.isin(hist_trans['card_id'])] "
   ]
  },
  {
   "cell_type": "code",
   "execution_count": 76,
   "metadata": {
    "collapsed": false
   },
   "outputs": [
    {
     "data": {
      "text/html": [
       "<div>\n",
       "<style scoped>\n",
       "    .dataframe tbody tr th:only-of-type {\n",
       "        vertical-align: middle;\n",
       "    }\n",
       "\n",
       "    .dataframe tbody tr th {\n",
       "        vertical-align: top;\n",
       "    }\n",
       "\n",
       "    .dataframe thead th {\n",
       "        text-align: right;\n",
       "    }\n",
       "</style>\n",
       "<table border=\"1\" class=\"dataframe\">\n",
       "  <thead>\n",
       "    <tr style=\"text-align: right;\">\n",
       "      <th></th>\n",
       "      <th>authorized_flag</th>\n",
       "      <th>card_id</th>\n",
       "      <th>city_id</th>\n",
       "      <th>category_1</th>\n",
       "      <th>installments</th>\n",
       "      <th>category_3</th>\n",
       "      <th>merchant_category_id</th>\n",
       "      <th>merchant_id</th>\n",
       "      <th>month_lag</th>\n",
       "      <th>purchase_amount</th>\n",
       "      <th>purchase_date</th>\n",
       "      <th>category_2</th>\n",
       "      <th>state_id</th>\n",
       "      <th>subsector_id</th>\n",
       "    </tr>\n",
       "  </thead>\n",
       "  <tbody>\n",
       "    <tr>\n",
       "      <th>17</th>\n",
       "      <td>Y</td>\n",
       "      <td>C_ID_ef55cf8d4b</td>\n",
       "      <td>69</td>\n",
       "      <td>N</td>\n",
       "      <td>1</td>\n",
       "      <td>B</td>\n",
       "      <td>560</td>\n",
       "      <td>M_ID_a1183a4e5e</td>\n",
       "      <td>2</td>\n",
       "      <td>-0.690228</td>\n",
       "      <td>2018-04-22 15:00:27</td>\n",
       "      <td>1.0</td>\n",
       "      <td>9</td>\n",
       "      <td>34</td>\n",
       "    </tr>\n",
       "    <tr>\n",
       "      <th>46</th>\n",
       "      <td>Y</td>\n",
       "      <td>C_ID_fb0875cd28</td>\n",
       "      <td>331</td>\n",
       "      <td>N</td>\n",
       "      <td>0</td>\n",
       "      <td>A</td>\n",
       "      <td>274</td>\n",
       "      <td>M_ID_3b3ec0f162</td>\n",
       "      <td>1</td>\n",
       "      <td>-0.565087</td>\n",
       "      <td>2018-03-16 08:32:37</td>\n",
       "      <td>1.0</td>\n",
       "      <td>9</td>\n",
       "      <td>36</td>\n",
       "    </tr>\n",
       "    <tr>\n",
       "      <th>113</th>\n",
       "      <td>Y</td>\n",
       "      <td>C_ID_1f236c50e6</td>\n",
       "      <td>4</td>\n",
       "      <td>N</td>\n",
       "      <td>1</td>\n",
       "      <td>B</td>\n",
       "      <td>248</td>\n",
       "      <td>M_ID_df85bd38ef</td>\n",
       "      <td>1</td>\n",
       "      <td>-0.620685</td>\n",
       "      <td>2018-03-28 21:19:48</td>\n",
       "      <td>2.0</td>\n",
       "      <td>10</td>\n",
       "      <td>8</td>\n",
       "    </tr>\n",
       "    <tr>\n",
       "      <th>192</th>\n",
       "      <td>Y</td>\n",
       "      <td>C_ID_be71a60d23</td>\n",
       "      <td>333</td>\n",
       "      <td>N</td>\n",
       "      <td>0</td>\n",
       "      <td>A</td>\n",
       "      <td>307</td>\n",
       "      <td>M_ID_1fb0d13ea0</td>\n",
       "      <td>1</td>\n",
       "      <td>-0.716855</td>\n",
       "      <td>2018-03-08 18:27:49</td>\n",
       "      <td>1.0</td>\n",
       "      <td>9</td>\n",
       "      <td>19</td>\n",
       "    </tr>\n",
       "    <tr>\n",
       "      <th>296</th>\n",
       "      <td>Y</td>\n",
       "      <td>C_ID_e4d60467c2</td>\n",
       "      <td>69</td>\n",
       "      <td>N</td>\n",
       "      <td>1</td>\n",
       "      <td>B</td>\n",
       "      <td>454</td>\n",
       "      <td>M_ID_491c8d0329</td>\n",
       "      <td>1</td>\n",
       "      <td>-0.739395</td>\n",
       "      <td>2018-03-20 18:47:36</td>\n",
       "      <td>1.0</td>\n",
       "      <td>9</td>\n",
       "      <td>39</td>\n",
       "    </tr>\n",
       "    <tr>\n",
       "      <th>338</th>\n",
       "      <td>Y</td>\n",
       "      <td>C_ID_18c53fe97a</td>\n",
       "      <td>17</td>\n",
       "      <td>N</td>\n",
       "      <td>1</td>\n",
       "      <td>B</td>\n",
       "      <td>847</td>\n",
       "      <td>M_ID_0ebba6ef07</td>\n",
       "      <td>2</td>\n",
       "      <td>-0.637815</td>\n",
       "      <td>2018-04-03 10:31:43</td>\n",
       "      <td>4.0</td>\n",
       "      <td>22</td>\n",
       "      <td>12</td>\n",
       "    </tr>\n",
       "    <tr>\n",
       "      <th>430</th>\n",
       "      <td>Y</td>\n",
       "      <td>C_ID_0cb8b21999</td>\n",
       "      <td>302</td>\n",
       "      <td>N</td>\n",
       "      <td>2</td>\n",
       "      <td>C</td>\n",
       "      <td>34</td>\n",
       "      <td>M_ID_b9fe9e2731</td>\n",
       "      <td>1</td>\n",
       "      <td>-0.506484</td>\n",
       "      <td>2018-03-13 17:11:35</td>\n",
       "      <td>1.0</td>\n",
       "      <td>15</td>\n",
       "      <td>38</td>\n",
       "    </tr>\n",
       "    <tr>\n",
       "      <th>449</th>\n",
       "      <td>Y</td>\n",
       "      <td>C_ID_b25d492593</td>\n",
       "      <td>212</td>\n",
       "      <td>N</td>\n",
       "      <td>1</td>\n",
       "      <td>B</td>\n",
       "      <td>417</td>\n",
       "      <td>M_ID_e61eb69788</td>\n",
       "      <td>2</td>\n",
       "      <td>-0.716855</td>\n",
       "      <td>2018-04-13 11:54:46</td>\n",
       "      <td>4.0</td>\n",
       "      <td>4</td>\n",
       "      <td>27</td>\n",
       "    </tr>\n",
       "    <tr>\n",
       "      <th>455</th>\n",
       "      <td>Y</td>\n",
       "      <td>C_ID_f0653560a1</td>\n",
       "      <td>19</td>\n",
       "      <td>N</td>\n",
       "      <td>0</td>\n",
       "      <td>A</td>\n",
       "      <td>783</td>\n",
       "      <td>M_ID_b3cb78a29b</td>\n",
       "      <td>2</td>\n",
       "      <td>-0.631204</td>\n",
       "      <td>2018-04-10 06:47:55</td>\n",
       "      <td>1.0</td>\n",
       "      <td>9</td>\n",
       "      <td>19</td>\n",
       "    </tr>\n",
       "    <tr>\n",
       "      <th>497</th>\n",
       "      <td>Y</td>\n",
       "      <td>C_ID_6b8caeecbc</td>\n",
       "      <td>283</td>\n",
       "      <td>N</td>\n",
       "      <td>1</td>\n",
       "      <td>B</td>\n",
       "      <td>80</td>\n",
       "      <td>M_ID_e447ae304b</td>\n",
       "      <td>2</td>\n",
       "      <td>-0.688154</td>\n",
       "      <td>2018-04-15 13:23:28</td>\n",
       "      <td>1.0</td>\n",
       "      <td>9</td>\n",
       "      <td>37</td>\n",
       "    </tr>\n",
       "    <tr>\n",
       "      <th>502</th>\n",
       "      <td>Y</td>\n",
       "      <td>C_ID_6b8caeecbc</td>\n",
       "      <td>231</td>\n",
       "      <td>N</td>\n",
       "      <td>1</td>\n",
       "      <td>B</td>\n",
       "      <td>278</td>\n",
       "      <td>M_ID_874105c1c5</td>\n",
       "      <td>2</td>\n",
       "      <td>-0.685810</td>\n",
       "      <td>2018-04-27 12:48:25</td>\n",
       "      <td>1.0</td>\n",
       "      <td>9</td>\n",
       "      <td>37</td>\n",
       "    </tr>\n",
       "    <tr>\n",
       "      <th>806</th>\n",
       "      <td>Y</td>\n",
       "      <td>C_ID_b1f2ab5e6b</td>\n",
       "      <td>17</td>\n",
       "      <td>N</td>\n",
       "      <td>1</td>\n",
       "      <td>B</td>\n",
       "      <td>683</td>\n",
       "      <td>M_ID_49550db20f</td>\n",
       "      <td>1</td>\n",
       "      <td>-0.639032</td>\n",
       "      <td>2018-03-13 12:02:56</td>\n",
       "      <td>4.0</td>\n",
       "      <td>22</td>\n",
       "      <td>34</td>\n",
       "    </tr>\n",
       "    <tr>\n",
       "      <th>957</th>\n",
       "      <td>Y</td>\n",
       "      <td>C_ID_3d5f4353dc</td>\n",
       "      <td>-1</td>\n",
       "      <td>N</td>\n",
       "      <td>1</td>\n",
       "      <td>B</td>\n",
       "      <td>68</td>\n",
       "      <td>M_ID_f93778387c</td>\n",
       "      <td>2</td>\n",
       "      <td>-0.701979</td>\n",
       "      <td>2018-04-21 11:13:30</td>\n",
       "      <td>NaN</td>\n",
       "      <td>-1</td>\n",
       "      <td>27</td>\n",
       "    </tr>\n",
       "    <tr>\n",
       "      <th>1092</th>\n",
       "      <td>Y</td>\n",
       "      <td>C_ID_6cbc158c1b</td>\n",
       "      <td>212</td>\n",
       "      <td>N</td>\n",
       "      <td>1</td>\n",
       "      <td>B</td>\n",
       "      <td>544</td>\n",
       "      <td>M_ID_a1ea47d59d</td>\n",
       "      <td>1</td>\n",
       "      <td>-0.698147</td>\n",
       "      <td>2018-03-29 10:17:59</td>\n",
       "      <td>4.0</td>\n",
       "      <td>4</td>\n",
       "      <td>29</td>\n",
       "    </tr>\n",
       "    <tr>\n",
       "      <th>1307</th>\n",
       "      <td>Y</td>\n",
       "      <td>C_ID_3d285fa7de</td>\n",
       "      <td>19</td>\n",
       "      <td>N</td>\n",
       "      <td>0</td>\n",
       "      <td>A</td>\n",
       "      <td>557</td>\n",
       "      <td>M_ID_3f4b5babe4</td>\n",
       "      <td>2</td>\n",
       "      <td>-0.551563</td>\n",
       "      <td>2018-04-16 17:21:55</td>\n",
       "      <td>1.0</td>\n",
       "      <td>9</td>\n",
       "      <td>29</td>\n",
       "    </tr>\n",
       "    <tr>\n",
       "      <th>1732</th>\n",
       "      <td>Y</td>\n",
       "      <td>C_ID_0339c7acac</td>\n",
       "      <td>41</td>\n",
       "      <td>N</td>\n",
       "      <td>0</td>\n",
       "      <td>A</td>\n",
       "      <td>126</td>\n",
       "      <td>M_ID_1e60b7688c</td>\n",
       "      <td>2</td>\n",
       "      <td>6.751322</td>\n",
       "      <td>2018-04-25 15:19:10</td>\n",
       "      <td>5.0</td>\n",
       "      <td>20</td>\n",
       "      <td>27</td>\n",
       "    </tr>\n",
       "    <tr>\n",
       "      <th>1850</th>\n",
       "      <td>Y</td>\n",
       "      <td>C_ID_cc199a8608</td>\n",
       "      <td>193</td>\n",
       "      <td>N</td>\n",
       "      <td>0</td>\n",
       "      <td>A</td>\n",
       "      <td>437</td>\n",
       "      <td>M_ID_542e3fe8e4</td>\n",
       "      <td>2</td>\n",
       "      <td>-0.565913</td>\n",
       "      <td>2018-04-26 17:04:26</td>\n",
       "      <td>1.0</td>\n",
       "      <td>15</td>\n",
       "      <td>15</td>\n",
       "    </tr>\n",
       "    <tr>\n",
       "      <th>2138</th>\n",
       "      <td>Y</td>\n",
       "      <td>C_ID_200dab5228</td>\n",
       "      <td>255</td>\n",
       "      <td>N</td>\n",
       "      <td>1</td>\n",
       "      <td>B</td>\n",
       "      <td>823</td>\n",
       "      <td>M_ID_94f2cb24ee</td>\n",
       "      <td>2</td>\n",
       "      <td>-0.604156</td>\n",
       "      <td>2018-04-03 20:51:35</td>\n",
       "      <td>1.0</td>\n",
       "      <td>9</td>\n",
       "      <td>25</td>\n",
       "    </tr>\n",
       "    <tr>\n",
       "      <th>2285</th>\n",
       "      <td>Y</td>\n",
       "      <td>C_ID_991097532d</td>\n",
       "      <td>102</td>\n",
       "      <td>N</td>\n",
       "      <td>1</td>\n",
       "      <td>B</td>\n",
       "      <td>307</td>\n",
       "      <td>M_ID_5f9d9b87df</td>\n",
       "      <td>1</td>\n",
       "      <td>-0.526183</td>\n",
       "      <td>2018-03-03 17:14:39</td>\n",
       "      <td>2.0</td>\n",
       "      <td>23</td>\n",
       "      <td>19</td>\n",
       "    </tr>\n",
       "    <tr>\n",
       "      <th>2317</th>\n",
       "      <td>Y</td>\n",
       "      <td>C_ID_c6b644d06f</td>\n",
       "      <td>-1</td>\n",
       "      <td>N</td>\n",
       "      <td>1</td>\n",
       "      <td>B</td>\n",
       "      <td>278</td>\n",
       "      <td>M_ID_efd93e3b31</td>\n",
       "      <td>2</td>\n",
       "      <td>-0.548558</td>\n",
       "      <td>2018-04-24 23:11:06</td>\n",
       "      <td>NaN</td>\n",
       "      <td>-1</td>\n",
       "      <td>37</td>\n",
       "    </tr>\n",
       "    <tr>\n",
       "      <th>2505</th>\n",
       "      <td>Y</td>\n",
       "      <td>C_ID_fe6490bef5</td>\n",
       "      <td>88</td>\n",
       "      <td>N</td>\n",
       "      <td>0</td>\n",
       "      <td>A</td>\n",
       "      <td>414</td>\n",
       "      <td>M_ID_e1373c5614</td>\n",
       "      <td>2</td>\n",
       "      <td>-0.707869</td>\n",
       "      <td>2018-04-27 13:12:54</td>\n",
       "      <td>1.0</td>\n",
       "      <td>16</td>\n",
       "      <td>29</td>\n",
       "    </tr>\n",
       "    <tr>\n",
       "      <th>2609</th>\n",
       "      <td>Y</td>\n",
       "      <td>C_ID_2de8b3aa21</td>\n",
       "      <td>211</td>\n",
       "      <td>N</td>\n",
       "      <td>0</td>\n",
       "      <td>A</td>\n",
       "      <td>430</td>\n",
       "      <td>M_ID_7ac00ab9e9</td>\n",
       "      <td>1</td>\n",
       "      <td>-0.190927</td>\n",
       "      <td>2017-08-29 14:15:05</td>\n",
       "      <td>3.0</td>\n",
       "      <td>19</td>\n",
       "      <td>2</td>\n",
       "    </tr>\n",
       "    <tr>\n",
       "      <th>2626</th>\n",
       "      <td>Y</td>\n",
       "      <td>C_ID_b41d026412</td>\n",
       "      <td>30</td>\n",
       "      <td>N</td>\n",
       "      <td>0</td>\n",
       "      <td>A</td>\n",
       "      <td>307</td>\n",
       "      <td>M_ID_e0254c0bec</td>\n",
       "      <td>2</td>\n",
       "      <td>-0.596643</td>\n",
       "      <td>2018-04-16 09:45:45</td>\n",
       "      <td>3.0</td>\n",
       "      <td>17</td>\n",
       "      <td>19</td>\n",
       "    </tr>\n",
       "    <tr>\n",
       "      <th>2936</th>\n",
       "      <td>Y</td>\n",
       "      <td>C_ID_4cf128812a</td>\n",
       "      <td>69</td>\n",
       "      <td>N</td>\n",
       "      <td>1</td>\n",
       "      <td>B</td>\n",
       "      <td>172</td>\n",
       "      <td>M_ID_bdd0c54774</td>\n",
       "      <td>2</td>\n",
       "      <td>-0.709387</td>\n",
       "      <td>2018-04-09 14:49:44</td>\n",
       "      <td>1.0</td>\n",
       "      <td>9</td>\n",
       "      <td>38</td>\n",
       "    </tr>\n",
       "    <tr>\n",
       "      <th>2939</th>\n",
       "      <td>Y</td>\n",
       "      <td>C_ID_4cf128812a</td>\n",
       "      <td>233</td>\n",
       "      <td>N</td>\n",
       "      <td>1</td>\n",
       "      <td>B</td>\n",
       "      <td>544</td>\n",
       "      <td>M_ID_912035940c</td>\n",
       "      <td>1</td>\n",
       "      <td>-0.728966</td>\n",
       "      <td>2018-03-20 12:28:30</td>\n",
       "      <td>1.0</td>\n",
       "      <td>9</td>\n",
       "      <td>29</td>\n",
       "    </tr>\n",
       "    <tr>\n",
       "      <th>2990</th>\n",
       "      <td>Y</td>\n",
       "      <td>C_ID_5d9fb672d1</td>\n",
       "      <td>88</td>\n",
       "      <td>N</td>\n",
       "      <td>1</td>\n",
       "      <td>B</td>\n",
       "      <td>278</td>\n",
       "      <td>M_ID_5673361cac</td>\n",
       "      <td>2</td>\n",
       "      <td>-0.556822</td>\n",
       "      <td>2018-04-13 21:56:43</td>\n",
       "      <td>1.0</td>\n",
       "      <td>16</td>\n",
       "      <td>37</td>\n",
       "    </tr>\n",
       "    <tr>\n",
       "      <th>3105</th>\n",
       "      <td>Y</td>\n",
       "      <td>C_ID_8cfc2c53af</td>\n",
       "      <td>158</td>\n",
       "      <td>N</td>\n",
       "      <td>1</td>\n",
       "      <td>B</td>\n",
       "      <td>307</td>\n",
       "      <td>M_ID_568a09facc</td>\n",
       "      <td>2</td>\n",
       "      <td>-0.671775</td>\n",
       "      <td>2018-04-03 14:36:15</td>\n",
       "      <td>1.0</td>\n",
       "      <td>15</td>\n",
       "      <td>19</td>\n",
       "    </tr>\n",
       "    <tr>\n",
       "      <th>3146</th>\n",
       "      <td>Y</td>\n",
       "      <td>C_ID_5eb4f1b4a0</td>\n",
       "      <td>57</td>\n",
       "      <td>N</td>\n",
       "      <td>1</td>\n",
       "      <td>B</td>\n",
       "      <td>884</td>\n",
       "      <td>M_ID_34c69654db</td>\n",
       "      <td>2</td>\n",
       "      <td>-0.703782</td>\n",
       "      <td>2018-04-17 11:45:43</td>\n",
       "      <td>5.0</td>\n",
       "      <td>5</td>\n",
       "      <td>27</td>\n",
       "    </tr>\n",
       "    <tr>\n",
       "      <th>3424</th>\n",
       "      <td>Y</td>\n",
       "      <td>C_ID_b62d338da3</td>\n",
       "      <td>69</td>\n",
       "      <td>N</td>\n",
       "      <td>1</td>\n",
       "      <td>B</td>\n",
       "      <td>560</td>\n",
       "      <td>M_ID_891f070b7f</td>\n",
       "      <td>2</td>\n",
       "      <td>-0.701828</td>\n",
       "      <td>2018-04-10 08:17:22</td>\n",
       "      <td>1.0</td>\n",
       "      <td>9</td>\n",
       "      <td>34</td>\n",
       "    </tr>\n",
       "    <tr>\n",
       "      <th>3444</th>\n",
       "      <td>Y</td>\n",
       "      <td>C_ID_c644403375</td>\n",
       "      <td>117</td>\n",
       "      <td>N</td>\n",
       "      <td>0</td>\n",
       "      <td>A</td>\n",
       "      <td>195</td>\n",
       "      <td>M_ID_ce9b127ecf</td>\n",
       "      <td>2</td>\n",
       "      <td>-0.710589</td>\n",
       "      <td>2018-04-16 17:20:34</td>\n",
       "      <td>4.0</td>\n",
       "      <td>13</td>\n",
       "      <td>34</td>\n",
       "    </tr>\n",
       "    <tr>\n",
       "      <th>...</th>\n",
       "      <td>...</td>\n",
       "      <td>...</td>\n",
       "      <td>...</td>\n",
       "      <td>...</td>\n",
       "      <td>...</td>\n",
       "      <td>...</td>\n",
       "      <td>...</td>\n",
       "      <td>...</td>\n",
       "      <td>...</td>\n",
       "      <td>...</td>\n",
       "      <td>...</td>\n",
       "      <td>...</td>\n",
       "      <td>...</td>\n",
       "      <td>...</td>\n",
       "    </tr>\n",
       "    <tr>\n",
       "      <th>1960642</th>\n",
       "      <td>Y</td>\n",
       "      <td>C_ID_2a1d51ba18</td>\n",
       "      <td>214</td>\n",
       "      <td>N</td>\n",
       "      <td>1</td>\n",
       "      <td>B</td>\n",
       "      <td>554</td>\n",
       "      <td>M_ID_d27f14d59a</td>\n",
       "      <td>2</td>\n",
       "      <td>-0.634209</td>\n",
       "      <td>2018-04-30 15:02:00</td>\n",
       "      <td>1.0</td>\n",
       "      <td>16</td>\n",
       "      <td>25</td>\n",
       "    </tr>\n",
       "    <tr>\n",
       "      <th>1960835</th>\n",
       "      <td>Y</td>\n",
       "      <td>C_ID_c3f96a1896</td>\n",
       "      <td>323</td>\n",
       "      <td>N</td>\n",
       "      <td>-1</td>\n",
       "      <td>NaN</td>\n",
       "      <td>34</td>\n",
       "      <td>M_ID_275214e258</td>\n",
       "      <td>2</td>\n",
       "      <td>-0.446378</td>\n",
       "      <td>2018-04-28 07:26:06</td>\n",
       "      <td>3.0</td>\n",
       "      <td>2</td>\n",
       "      <td>38</td>\n",
       "    </tr>\n",
       "    <tr>\n",
       "      <th>1960947</th>\n",
       "      <td>Y</td>\n",
       "      <td>C_ID_4d385dd348</td>\n",
       "      <td>183</td>\n",
       "      <td>N</td>\n",
       "      <td>1</td>\n",
       "      <td>B</td>\n",
       "      <td>206</td>\n",
       "      <td>M_ID_a37bcca699</td>\n",
       "      <td>1</td>\n",
       "      <td>-0.728125</td>\n",
       "      <td>2018-03-02 10:32:16</td>\n",
       "      <td>1.0</td>\n",
       "      <td>9</td>\n",
       "      <td>1</td>\n",
       "    </tr>\n",
       "    <tr>\n",
       "      <th>1961240</th>\n",
       "      <td>Y</td>\n",
       "      <td>C_ID_2c10e31215</td>\n",
       "      <td>328</td>\n",
       "      <td>N</td>\n",
       "      <td>1</td>\n",
       "      <td>B</td>\n",
       "      <td>369</td>\n",
       "      <td>M_ID_3f3d55d091</td>\n",
       "      <td>2</td>\n",
       "      <td>-0.312792</td>\n",
       "      <td>2017-11-14 00:00:00</td>\n",
       "      <td>1.0</td>\n",
       "      <td>16</td>\n",
       "      <td>27</td>\n",
       "    </tr>\n",
       "    <tr>\n",
       "      <th>1961303</th>\n",
       "      <td>Y</td>\n",
       "      <td>C_ID_9388e985ea</td>\n",
       "      <td>137</td>\n",
       "      <td>N</td>\n",
       "      <td>0</td>\n",
       "      <td>A</td>\n",
       "      <td>225</td>\n",
       "      <td>M_ID_9882b091aa</td>\n",
       "      <td>2</td>\n",
       "      <td>0.750559</td>\n",
       "      <td>2018-04-03 09:30:09</td>\n",
       "      <td>3.0</td>\n",
       "      <td>19</td>\n",
       "      <td>9</td>\n",
       "    </tr>\n",
       "    <tr>\n",
       "      <th>1961308</th>\n",
       "      <td>Y</td>\n",
       "      <td>C_ID_32d1d6d396</td>\n",
       "      <td>107</td>\n",
       "      <td>N</td>\n",
       "      <td>0</td>\n",
       "      <td>A</td>\n",
       "      <td>705</td>\n",
       "      <td>M_ID_8f96af5a0f</td>\n",
       "      <td>2</td>\n",
       "      <td>-0.742625</td>\n",
       "      <td>2018-04-28 08:17:56</td>\n",
       "      <td>4.0</td>\n",
       "      <td>4</td>\n",
       "      <td>33</td>\n",
       "    </tr>\n",
       "    <tr>\n",
       "      <th>1961432</th>\n",
       "      <td>Y</td>\n",
       "      <td>C_ID_b16cac454b</td>\n",
       "      <td>96</td>\n",
       "      <td>N</td>\n",
       "      <td>0</td>\n",
       "      <td>A</td>\n",
       "      <td>278</td>\n",
       "      <td>M_ID_202b165f45</td>\n",
       "      <td>1</td>\n",
       "      <td>-0.719860</td>\n",
       "      <td>2018-03-02 09:32:14</td>\n",
       "      <td>2.0</td>\n",
       "      <td>24</td>\n",
       "      <td>37</td>\n",
       "    </tr>\n",
       "    <tr>\n",
       "      <th>1961487</th>\n",
       "      <td>Y</td>\n",
       "      <td>C_ID_71d432b25a</td>\n",
       "      <td>333</td>\n",
       "      <td>N</td>\n",
       "      <td>0</td>\n",
       "      <td>A</td>\n",
       "      <td>369</td>\n",
       "      <td>M_ID_0e8bba5f22</td>\n",
       "      <td>1</td>\n",
       "      <td>-0.714300</td>\n",
       "      <td>2018-03-23 13:18:08</td>\n",
       "      <td>5.0</td>\n",
       "      <td>21</td>\n",
       "      <td>27</td>\n",
       "    </tr>\n",
       "    <tr>\n",
       "      <th>1961521</th>\n",
       "      <td>Y</td>\n",
       "      <td>C_ID_88429f5172</td>\n",
       "      <td>-1</td>\n",
       "      <td>Y</td>\n",
       "      <td>1</td>\n",
       "      <td>B</td>\n",
       "      <td>472</td>\n",
       "      <td>M_ID_dba219c394</td>\n",
       "      <td>2</td>\n",
       "      <td>1.930817</td>\n",
       "      <td>2018-04-26 14:51:10</td>\n",
       "      <td>NaN</td>\n",
       "      <td>-1</td>\n",
       "      <td>4</td>\n",
       "    </tr>\n",
       "    <tr>\n",
       "      <th>1961558</th>\n",
       "      <td>Y</td>\n",
       "      <td>C_ID_ec33cff1b2</td>\n",
       "      <td>289</td>\n",
       "      <td>N</td>\n",
       "      <td>4</td>\n",
       "      <td>C</td>\n",
       "      <td>87</td>\n",
       "      <td>M_ID_7aa7805ce5</td>\n",
       "      <td>1</td>\n",
       "      <td>-0.221130</td>\n",
       "      <td>2018-03-26 11:25:59</td>\n",
       "      <td>5.0</td>\n",
       "      <td>5</td>\n",
       "      <td>27</td>\n",
       "    </tr>\n",
       "    <tr>\n",
       "      <th>1961662</th>\n",
       "      <td>Y</td>\n",
       "      <td>C_ID_9cc0ca5cc9</td>\n",
       "      <td>3</td>\n",
       "      <td>N</td>\n",
       "      <td>0</td>\n",
       "      <td>A</td>\n",
       "      <td>443</td>\n",
       "      <td>M_ID_47ae482fa1</td>\n",
       "      <td>1</td>\n",
       "      <td>-0.551713</td>\n",
       "      <td>2017-08-12 14:33:49</td>\n",
       "      <td>1.0</td>\n",
       "      <td>16</td>\n",
       "      <td>21</td>\n",
       "    </tr>\n",
       "    <tr>\n",
       "      <th>1961668</th>\n",
       "      <td>Y</td>\n",
       "      <td>C_ID_cf615e2bb8</td>\n",
       "      <td>296</td>\n",
       "      <td>N</td>\n",
       "      <td>0</td>\n",
       "      <td>A</td>\n",
       "      <td>68</td>\n",
       "      <td>M_ID_16a7d71c54</td>\n",
       "      <td>2</td>\n",
       "      <td>-0.686802</td>\n",
       "      <td>2017-11-16 00:00:00</td>\n",
       "      <td>1.0</td>\n",
       "      <td>15</td>\n",
       "      <td>27</td>\n",
       "    </tr>\n",
       "    <tr>\n",
       "      <th>1961712</th>\n",
       "      <td>Y</td>\n",
       "      <td>C_ID_5f39b98780</td>\n",
       "      <td>19</td>\n",
       "      <td>N</td>\n",
       "      <td>1</td>\n",
       "      <td>B</td>\n",
       "      <td>705</td>\n",
       "      <td>M_ID_51052c8233</td>\n",
       "      <td>2</td>\n",
       "      <td>-0.705585</td>\n",
       "      <td>2018-04-14 20:34:51</td>\n",
       "      <td>1.0</td>\n",
       "      <td>9</td>\n",
       "      <td>33</td>\n",
       "    </tr>\n",
       "    <tr>\n",
       "      <th>1961794</th>\n",
       "      <td>Y</td>\n",
       "      <td>C_ID_4813690cfe</td>\n",
       "      <td>109</td>\n",
       "      <td>N</td>\n",
       "      <td>0</td>\n",
       "      <td>A</td>\n",
       "      <td>60</td>\n",
       "      <td>M_ID_820db06506</td>\n",
       "      <td>2</td>\n",
       "      <td>-0.671775</td>\n",
       "      <td>2018-03-19 15:00:53</td>\n",
       "      <td>3.0</td>\n",
       "      <td>3</td>\n",
       "      <td>13</td>\n",
       "    </tr>\n",
       "    <tr>\n",
       "      <th>1961973</th>\n",
       "      <td>Y</td>\n",
       "      <td>C_ID_36a72c26b8</td>\n",
       "      <td>52</td>\n",
       "      <td>N</td>\n",
       "      <td>3</td>\n",
       "      <td>C</td>\n",
       "      <td>332</td>\n",
       "      <td>M_ID_b2b5ce36aa</td>\n",
       "      <td>2</td>\n",
       "      <td>0.079550</td>\n",
       "      <td>2018-04-25 13:56:19</td>\n",
       "      <td>4.0</td>\n",
       "      <td>4</td>\n",
       "      <td>2</td>\n",
       "    </tr>\n",
       "    <tr>\n",
       "      <th>1961982</th>\n",
       "      <td>Y</td>\n",
       "      <td>C_ID_01127dac13</td>\n",
       "      <td>107</td>\n",
       "      <td>N</td>\n",
       "      <td>1</td>\n",
       "      <td>B</td>\n",
       "      <td>705</td>\n",
       "      <td>M_ID_e8bb4eecdf</td>\n",
       "      <td>1</td>\n",
       "      <td>-0.732392</td>\n",
       "      <td>2018-03-28 04:25:05</td>\n",
       "      <td>4.0</td>\n",
       "      <td>4</td>\n",
       "      <td>33</td>\n",
       "    </tr>\n",
       "    <tr>\n",
       "      <th>1962149</th>\n",
       "      <td>Y</td>\n",
       "      <td>C_ID_0ab020e323</td>\n",
       "      <td>178</td>\n",
       "      <td>N</td>\n",
       "      <td>0</td>\n",
       "      <td>A</td>\n",
       "      <td>206</td>\n",
       "      <td>M_ID_5714b3ac19</td>\n",
       "      <td>2</td>\n",
       "      <td>-0.476431</td>\n",
       "      <td>2018-04-23 05:52:22</td>\n",
       "      <td>5.0</td>\n",
       "      <td>21</td>\n",
       "      <td>1</td>\n",
       "    </tr>\n",
       "    <tr>\n",
       "      <th>1962185</th>\n",
       "      <td>Y</td>\n",
       "      <td>C_ID_0c8fae7865</td>\n",
       "      <td>19</td>\n",
       "      <td>N</td>\n",
       "      <td>1</td>\n",
       "      <td>B</td>\n",
       "      <td>60</td>\n",
       "      <td>M_ID_0a366829ce</td>\n",
       "      <td>1</td>\n",
       "      <td>-0.679288</td>\n",
       "      <td>2018-03-06 16:36:35</td>\n",
       "      <td>1.0</td>\n",
       "      <td>9</td>\n",
       "      <td>13</td>\n",
       "    </tr>\n",
       "    <tr>\n",
       "      <th>1962284</th>\n",
       "      <td>Y</td>\n",
       "      <td>C_ID_b6aae38ab6</td>\n",
       "      <td>117</td>\n",
       "      <td>N</td>\n",
       "      <td>0</td>\n",
       "      <td>A</td>\n",
       "      <td>705</td>\n",
       "      <td>M_ID_01a405d996</td>\n",
       "      <td>2</td>\n",
       "      <td>-0.457918</td>\n",
       "      <td>2018-04-27 21:56:30</td>\n",
       "      <td>4.0</td>\n",
       "      <td>13</td>\n",
       "      <td>33</td>\n",
       "    </tr>\n",
       "    <tr>\n",
       "      <th>1962291</th>\n",
       "      <td>Y</td>\n",
       "      <td>C_ID_2747b3a8ec</td>\n",
       "      <td>212</td>\n",
       "      <td>N</td>\n",
       "      <td>-1</td>\n",
       "      <td>NaN</td>\n",
       "      <td>34</td>\n",
       "      <td>M_ID_d1f0c32fe8</td>\n",
       "      <td>1</td>\n",
       "      <td>-0.228493</td>\n",
       "      <td>2018-03-13 14:00:09</td>\n",
       "      <td>4.0</td>\n",
       "      <td>4</td>\n",
       "      <td>38</td>\n",
       "    </tr>\n",
       "    <tr>\n",
       "      <th>1962421</th>\n",
       "      <td>Y</td>\n",
       "      <td>C_ID_729db768e1</td>\n",
       "      <td>261</td>\n",
       "      <td>N</td>\n",
       "      <td>0</td>\n",
       "      <td>A</td>\n",
       "      <td>273</td>\n",
       "      <td>M_ID_7ebe45f784</td>\n",
       "      <td>2</td>\n",
       "      <td>-0.731881</td>\n",
       "      <td>2018-04-03 17:55:53</td>\n",
       "      <td>1.0</td>\n",
       "      <td>9</td>\n",
       "      <td>20</td>\n",
       "    </tr>\n",
       "    <tr>\n",
       "      <th>1962521</th>\n",
       "      <td>Y</td>\n",
       "      <td>C_ID_8a10396f12</td>\n",
       "      <td>331</td>\n",
       "      <td>N</td>\n",
       "      <td>2</td>\n",
       "      <td>C</td>\n",
       "      <td>373</td>\n",
       "      <td>M_ID_3287b824de</td>\n",
       "      <td>2</td>\n",
       "      <td>-0.517002</td>\n",
       "      <td>2018-04-13 15:26:22</td>\n",
       "      <td>1.0</td>\n",
       "      <td>16</td>\n",
       "      <td>18</td>\n",
       "    </tr>\n",
       "    <tr>\n",
       "      <th>1962617</th>\n",
       "      <td>Y</td>\n",
       "      <td>C_ID_09f3c45b34</td>\n",
       "      <td>296</td>\n",
       "      <td>N</td>\n",
       "      <td>0</td>\n",
       "      <td>A</td>\n",
       "      <td>278</td>\n",
       "      <td>M_ID_ca64cb9e56</td>\n",
       "      <td>2</td>\n",
       "      <td>-0.671925</td>\n",
       "      <td>2018-04-09 18:27:03</td>\n",
       "      <td>1.0</td>\n",
       "      <td>15</td>\n",
       "      <td>37</td>\n",
       "    </tr>\n",
       "    <tr>\n",
       "      <th>1962663</th>\n",
       "      <td>Y</td>\n",
       "      <td>C_ID_b76dca4c44</td>\n",
       "      <td>4</td>\n",
       "      <td>N</td>\n",
       "      <td>0</td>\n",
       "      <td>A</td>\n",
       "      <td>705</td>\n",
       "      <td>M_ID_b076ca6bc5</td>\n",
       "      <td>2</td>\n",
       "      <td>0.990097</td>\n",
       "      <td>2018-04-13 17:28:41</td>\n",
       "      <td>2.0</td>\n",
       "      <td>10</td>\n",
       "      <td>33</td>\n",
       "    </tr>\n",
       "    <tr>\n",
       "      <th>1962696</th>\n",
       "      <td>Y</td>\n",
       "      <td>C_ID_6a880cb81f</td>\n",
       "      <td>322</td>\n",
       "      <td>N</td>\n",
       "      <td>0</td>\n",
       "      <td>A</td>\n",
       "      <td>683</td>\n",
       "      <td>M_ID_4539c61a31</td>\n",
       "      <td>2</td>\n",
       "      <td>-0.736389</td>\n",
       "      <td>2018-04-01 10:42:55</td>\n",
       "      <td>4.0</td>\n",
       "      <td>4</td>\n",
       "      <td>34</td>\n",
       "    </tr>\n",
       "    <tr>\n",
       "      <th>1962711</th>\n",
       "      <td>Y</td>\n",
       "      <td>C_ID_2e8ad7e6be</td>\n",
       "      <td>117</td>\n",
       "      <td>N</td>\n",
       "      <td>0</td>\n",
       "      <td>A</td>\n",
       "      <td>705</td>\n",
       "      <td>M_ID_aa2c7a11b0</td>\n",
       "      <td>1</td>\n",
       "      <td>-0.710228</td>\n",
       "      <td>2018-03-06 18:36:38</td>\n",
       "      <td>4.0</td>\n",
       "      <td>13</td>\n",
       "      <td>33</td>\n",
       "    </tr>\n",
       "    <tr>\n",
       "      <th>1962738</th>\n",
       "      <td>Y</td>\n",
       "      <td>C_ID_66b00ac6cd</td>\n",
       "      <td>20</td>\n",
       "      <td>N</td>\n",
       "      <td>1</td>\n",
       "      <td>B</td>\n",
       "      <td>705</td>\n",
       "      <td>M_ID_2d3183e49e</td>\n",
       "      <td>1</td>\n",
       "      <td>-0.744519</td>\n",
       "      <td>2018-03-03 18:06:31</td>\n",
       "      <td>3.0</td>\n",
       "      <td>19</td>\n",
       "      <td>33</td>\n",
       "    </tr>\n",
       "    <tr>\n",
       "      <th>1962835</th>\n",
       "      <td>Y</td>\n",
       "      <td>C_ID_88f8c07c6d</td>\n",
       "      <td>233</td>\n",
       "      <td>N</td>\n",
       "      <td>1</td>\n",
       "      <td>B</td>\n",
       "      <td>195</td>\n",
       "      <td>M_ID_d722baf580</td>\n",
       "      <td>2</td>\n",
       "      <td>-0.718883</td>\n",
       "      <td>2017-07-21 12:15:21</td>\n",
       "      <td>1.0</td>\n",
       "      <td>9</td>\n",
       "      <td>34</td>\n",
       "    </tr>\n",
       "    <tr>\n",
       "      <th>1962919</th>\n",
       "      <td>Y</td>\n",
       "      <td>C_ID_9131ba2c3e</td>\n",
       "      <td>19</td>\n",
       "      <td>N</td>\n",
       "      <td>0</td>\n",
       "      <td>A</td>\n",
       "      <td>705</td>\n",
       "      <td>M_ID_79edabf769</td>\n",
       "      <td>1</td>\n",
       "      <td>-0.743151</td>\n",
       "      <td>2017-10-28 00:00:00</td>\n",
       "      <td>1.0</td>\n",
       "      <td>9</td>\n",
       "      <td>33</td>\n",
       "    </tr>\n",
       "    <tr>\n",
       "      <th>1963002</th>\n",
       "      <td>Y</td>\n",
       "      <td>C_ID_df4e6d6000</td>\n",
       "      <td>248</td>\n",
       "      <td>N</td>\n",
       "      <td>-1</td>\n",
       "      <td>NaN</td>\n",
       "      <td>34</td>\n",
       "      <td>M_ID_4247d8f9d5</td>\n",
       "      <td>2</td>\n",
       "      <td>-0.160874</td>\n",
       "      <td>2018-04-18 12:39:52</td>\n",
       "      <td>1.0</td>\n",
       "      <td>15</td>\n",
       "      <td>38</td>\n",
       "    </tr>\n",
       "  </tbody>\n",
       "</table>\n",
       "<p>14715 rows × 14 columns</p>\n",
       "</div>"
      ],
      "text/plain": [
       "        authorized_flag          card_id  city_id category_1  installments  \\\n",
       "17                    Y  C_ID_ef55cf8d4b       69          N             1   \n",
       "46                    Y  C_ID_fb0875cd28      331          N             0   \n",
       "113                   Y  C_ID_1f236c50e6        4          N             1   \n",
       "192                   Y  C_ID_be71a60d23      333          N             0   \n",
       "296                   Y  C_ID_e4d60467c2       69          N             1   \n",
       "338                   Y  C_ID_18c53fe97a       17          N             1   \n",
       "430                   Y  C_ID_0cb8b21999      302          N             2   \n",
       "449                   Y  C_ID_b25d492593      212          N             1   \n",
       "455                   Y  C_ID_f0653560a1       19          N             0   \n",
       "497                   Y  C_ID_6b8caeecbc      283          N             1   \n",
       "502                   Y  C_ID_6b8caeecbc      231          N             1   \n",
       "806                   Y  C_ID_b1f2ab5e6b       17          N             1   \n",
       "957                   Y  C_ID_3d5f4353dc       -1          N             1   \n",
       "1092                  Y  C_ID_6cbc158c1b      212          N             1   \n",
       "1307                  Y  C_ID_3d285fa7de       19          N             0   \n",
       "1732                  Y  C_ID_0339c7acac       41          N             0   \n",
       "1850                  Y  C_ID_cc199a8608      193          N             0   \n",
       "2138                  Y  C_ID_200dab5228      255          N             1   \n",
       "2285                  Y  C_ID_991097532d      102          N             1   \n",
       "2317                  Y  C_ID_c6b644d06f       -1          N             1   \n",
       "2505                  Y  C_ID_fe6490bef5       88          N             0   \n",
       "2609                  Y  C_ID_2de8b3aa21      211          N             0   \n",
       "2626                  Y  C_ID_b41d026412       30          N             0   \n",
       "2936                  Y  C_ID_4cf128812a       69          N             1   \n",
       "2939                  Y  C_ID_4cf128812a      233          N             1   \n",
       "2990                  Y  C_ID_5d9fb672d1       88          N             1   \n",
       "3105                  Y  C_ID_8cfc2c53af      158          N             1   \n",
       "3146                  Y  C_ID_5eb4f1b4a0       57          N             1   \n",
       "3424                  Y  C_ID_b62d338da3       69          N             1   \n",
       "3444                  Y  C_ID_c644403375      117          N             0   \n",
       "...                 ...              ...      ...        ...           ...   \n",
       "1960642               Y  C_ID_2a1d51ba18      214          N             1   \n",
       "1960835               Y  C_ID_c3f96a1896      323          N            -1   \n",
       "1960947               Y  C_ID_4d385dd348      183          N             1   \n",
       "1961240               Y  C_ID_2c10e31215      328          N             1   \n",
       "1961303               Y  C_ID_9388e985ea      137          N             0   \n",
       "1961308               Y  C_ID_32d1d6d396      107          N             0   \n",
       "1961432               Y  C_ID_b16cac454b       96          N             0   \n",
       "1961487               Y  C_ID_71d432b25a      333          N             0   \n",
       "1961521               Y  C_ID_88429f5172       -1          Y             1   \n",
       "1961558               Y  C_ID_ec33cff1b2      289          N             4   \n",
       "1961662               Y  C_ID_9cc0ca5cc9        3          N             0   \n",
       "1961668               Y  C_ID_cf615e2bb8      296          N             0   \n",
       "1961712               Y  C_ID_5f39b98780       19          N             1   \n",
       "1961794               Y  C_ID_4813690cfe      109          N             0   \n",
       "1961973               Y  C_ID_36a72c26b8       52          N             3   \n",
       "1961982               Y  C_ID_01127dac13      107          N             1   \n",
       "1962149               Y  C_ID_0ab020e323      178          N             0   \n",
       "1962185               Y  C_ID_0c8fae7865       19          N             1   \n",
       "1962284               Y  C_ID_b6aae38ab6      117          N             0   \n",
       "1962291               Y  C_ID_2747b3a8ec      212          N            -1   \n",
       "1962421               Y  C_ID_729db768e1      261          N             0   \n",
       "1962521               Y  C_ID_8a10396f12      331          N             2   \n",
       "1962617               Y  C_ID_09f3c45b34      296          N             0   \n",
       "1962663               Y  C_ID_b76dca4c44        4          N             0   \n",
       "1962696               Y  C_ID_6a880cb81f      322          N             0   \n",
       "1962711               Y  C_ID_2e8ad7e6be      117          N             0   \n",
       "1962738               Y  C_ID_66b00ac6cd       20          N             1   \n",
       "1962835               Y  C_ID_88f8c07c6d      233          N             1   \n",
       "1962919               Y  C_ID_9131ba2c3e       19          N             0   \n",
       "1963002               Y  C_ID_df4e6d6000      248          N            -1   \n",
       "\n",
       "        category_3  merchant_category_id      merchant_id  month_lag  \\\n",
       "17               B                   560  M_ID_a1183a4e5e          2   \n",
       "46               A                   274  M_ID_3b3ec0f162          1   \n",
       "113              B                   248  M_ID_df85bd38ef          1   \n",
       "192              A                   307  M_ID_1fb0d13ea0          1   \n",
       "296              B                   454  M_ID_491c8d0329          1   \n",
       "338              B                   847  M_ID_0ebba6ef07          2   \n",
       "430              C                    34  M_ID_b9fe9e2731          1   \n",
       "449              B                   417  M_ID_e61eb69788          2   \n",
       "455              A                   783  M_ID_b3cb78a29b          2   \n",
       "497              B                    80  M_ID_e447ae304b          2   \n",
       "502              B                   278  M_ID_874105c1c5          2   \n",
       "806              B                   683  M_ID_49550db20f          1   \n",
       "957              B                    68  M_ID_f93778387c          2   \n",
       "1092             B                   544  M_ID_a1ea47d59d          1   \n",
       "1307             A                   557  M_ID_3f4b5babe4          2   \n",
       "1732             A                   126  M_ID_1e60b7688c          2   \n",
       "1850             A                   437  M_ID_542e3fe8e4          2   \n",
       "2138             B                   823  M_ID_94f2cb24ee          2   \n",
       "2285             B                   307  M_ID_5f9d9b87df          1   \n",
       "2317             B                   278  M_ID_efd93e3b31          2   \n",
       "2505             A                   414  M_ID_e1373c5614          2   \n",
       "2609             A                   430  M_ID_7ac00ab9e9          1   \n",
       "2626             A                   307  M_ID_e0254c0bec          2   \n",
       "2936             B                   172  M_ID_bdd0c54774          2   \n",
       "2939             B                   544  M_ID_912035940c          1   \n",
       "2990             B                   278  M_ID_5673361cac          2   \n",
       "3105             B                   307  M_ID_568a09facc          2   \n",
       "3146             B                   884  M_ID_34c69654db          2   \n",
       "3424             B                   560  M_ID_891f070b7f          2   \n",
       "3444             A                   195  M_ID_ce9b127ecf          2   \n",
       "...            ...                   ...              ...        ...   \n",
       "1960642          B                   554  M_ID_d27f14d59a          2   \n",
       "1960835        NaN                    34  M_ID_275214e258          2   \n",
       "1960947          B                   206  M_ID_a37bcca699          1   \n",
       "1961240          B                   369  M_ID_3f3d55d091          2   \n",
       "1961303          A                   225  M_ID_9882b091aa          2   \n",
       "1961308          A                   705  M_ID_8f96af5a0f          2   \n",
       "1961432          A                   278  M_ID_202b165f45          1   \n",
       "1961487          A                   369  M_ID_0e8bba5f22          1   \n",
       "1961521          B                   472  M_ID_dba219c394          2   \n",
       "1961558          C                    87  M_ID_7aa7805ce5          1   \n",
       "1961662          A                   443  M_ID_47ae482fa1          1   \n",
       "1961668          A                    68  M_ID_16a7d71c54          2   \n",
       "1961712          B                   705  M_ID_51052c8233          2   \n",
       "1961794          A                    60  M_ID_820db06506          2   \n",
       "1961973          C                   332  M_ID_b2b5ce36aa          2   \n",
       "1961982          B                   705  M_ID_e8bb4eecdf          1   \n",
       "1962149          A                   206  M_ID_5714b3ac19          2   \n",
       "1962185          B                    60  M_ID_0a366829ce          1   \n",
       "1962284          A                   705  M_ID_01a405d996          2   \n",
       "1962291        NaN                    34  M_ID_d1f0c32fe8          1   \n",
       "1962421          A                   273  M_ID_7ebe45f784          2   \n",
       "1962521          C                   373  M_ID_3287b824de          2   \n",
       "1962617          A                   278  M_ID_ca64cb9e56          2   \n",
       "1962663          A                   705  M_ID_b076ca6bc5          2   \n",
       "1962696          A                   683  M_ID_4539c61a31          2   \n",
       "1962711          A                   705  M_ID_aa2c7a11b0          1   \n",
       "1962738          B                   705  M_ID_2d3183e49e          1   \n",
       "1962835          B                   195  M_ID_d722baf580          2   \n",
       "1962919          A                   705  M_ID_79edabf769          1   \n",
       "1963002        NaN                    34  M_ID_4247d8f9d5          2   \n",
       "\n",
       "         purchase_amount        purchase_date  category_2  state_id  \\\n",
       "17             -0.690228  2018-04-22 15:00:27         1.0         9   \n",
       "46             -0.565087  2018-03-16 08:32:37         1.0         9   \n",
       "113            -0.620685  2018-03-28 21:19:48         2.0        10   \n",
       "192            -0.716855  2018-03-08 18:27:49         1.0         9   \n",
       "296            -0.739395  2018-03-20 18:47:36         1.0         9   \n",
       "338            -0.637815  2018-04-03 10:31:43         4.0        22   \n",
       "430            -0.506484  2018-03-13 17:11:35         1.0        15   \n",
       "449            -0.716855  2018-04-13 11:54:46         4.0         4   \n",
       "455            -0.631204  2018-04-10 06:47:55         1.0         9   \n",
       "497            -0.688154  2018-04-15 13:23:28         1.0         9   \n",
       "502            -0.685810  2018-04-27 12:48:25         1.0         9   \n",
       "806            -0.639032  2018-03-13 12:02:56         4.0        22   \n",
       "957            -0.701979  2018-04-21 11:13:30         NaN        -1   \n",
       "1092           -0.698147  2018-03-29 10:17:59         4.0         4   \n",
       "1307           -0.551563  2018-04-16 17:21:55         1.0         9   \n",
       "1732            6.751322  2018-04-25 15:19:10         5.0        20   \n",
       "1850           -0.565913  2018-04-26 17:04:26         1.0        15   \n",
       "2138           -0.604156  2018-04-03 20:51:35         1.0         9   \n",
       "2285           -0.526183  2018-03-03 17:14:39         2.0        23   \n",
       "2317           -0.548558  2018-04-24 23:11:06         NaN        -1   \n",
       "2505           -0.707869  2018-04-27 13:12:54         1.0        16   \n",
       "2609           -0.190927  2017-08-29 14:15:05         3.0        19   \n",
       "2626           -0.596643  2018-04-16 09:45:45         3.0        17   \n",
       "2936           -0.709387  2018-04-09 14:49:44         1.0         9   \n",
       "2939           -0.728966  2018-03-20 12:28:30         1.0         9   \n",
       "2990           -0.556822  2018-04-13 21:56:43         1.0        16   \n",
       "3105           -0.671775  2018-04-03 14:36:15         1.0        15   \n",
       "3146           -0.703782  2018-04-17 11:45:43         5.0         5   \n",
       "3424           -0.701828  2018-04-10 08:17:22         1.0         9   \n",
       "3444           -0.710589  2018-04-16 17:20:34         4.0        13   \n",
       "...                  ...                  ...         ...       ...   \n",
       "1960642        -0.634209  2018-04-30 15:02:00         1.0        16   \n",
       "1960835        -0.446378  2018-04-28 07:26:06         3.0         2   \n",
       "1960947        -0.728125  2018-03-02 10:32:16         1.0         9   \n",
       "1961240        -0.312792  2017-11-14 00:00:00         1.0        16   \n",
       "1961303         0.750559  2018-04-03 09:30:09         3.0        19   \n",
       "1961308        -0.742625  2018-04-28 08:17:56         4.0         4   \n",
       "1961432        -0.719860  2018-03-02 09:32:14         2.0        24   \n",
       "1961487        -0.714300  2018-03-23 13:18:08         5.0        21   \n",
       "1961521         1.930817  2018-04-26 14:51:10         NaN        -1   \n",
       "1961558        -0.221130  2018-03-26 11:25:59         5.0         5   \n",
       "1961662        -0.551713  2017-08-12 14:33:49         1.0        16   \n",
       "1961668        -0.686802  2017-11-16 00:00:00         1.0        15   \n",
       "1961712        -0.705585  2018-04-14 20:34:51         1.0         9   \n",
       "1961794        -0.671775  2018-03-19 15:00:53         3.0         3   \n",
       "1961973         0.079550  2018-04-25 13:56:19         4.0         4   \n",
       "1961982        -0.732392  2018-03-28 04:25:05         4.0         4   \n",
       "1962149        -0.476431  2018-04-23 05:52:22         5.0        21   \n",
       "1962185        -0.679288  2018-03-06 16:36:35         1.0         9   \n",
       "1962284        -0.457918  2018-04-27 21:56:30         4.0        13   \n",
       "1962291        -0.228493  2018-03-13 14:00:09         4.0         4   \n",
       "1962421        -0.731881  2018-04-03 17:55:53         1.0         9   \n",
       "1962521        -0.517002  2018-04-13 15:26:22         1.0        16   \n",
       "1962617        -0.671925  2018-04-09 18:27:03         1.0        15   \n",
       "1962663         0.990097  2018-04-13 17:28:41         2.0        10   \n",
       "1962696        -0.736389  2018-04-01 10:42:55         4.0         4   \n",
       "1962711        -0.710228  2018-03-06 18:36:38         4.0        13   \n",
       "1962738        -0.744519  2018-03-03 18:06:31         3.0        19   \n",
       "1962835        -0.718883  2017-07-21 12:15:21         1.0         9   \n",
       "1962919        -0.743151  2017-10-28 00:00:00         1.0         9   \n",
       "1963002        -0.160874  2018-04-18 12:39:52         1.0        15   \n",
       "\n",
       "         subsector_id  \n",
       "17                 34  \n",
       "46                 36  \n",
       "113                 8  \n",
       "192                19  \n",
       "296                39  \n",
       "338                12  \n",
       "430                38  \n",
       "449                27  \n",
       "455                19  \n",
       "497                37  \n",
       "502                37  \n",
       "806                34  \n",
       "957                27  \n",
       "1092               29  \n",
       "1307               29  \n",
       "1732               27  \n",
       "1850               15  \n",
       "2138               25  \n",
       "2285               19  \n",
       "2317               37  \n",
       "2505               29  \n",
       "2609                2  \n",
       "2626               19  \n",
       "2936               38  \n",
       "2939               29  \n",
       "2990               37  \n",
       "3105               19  \n",
       "3146               27  \n",
       "3424               34  \n",
       "3444               34  \n",
       "...               ...  \n",
       "1960642            25  \n",
       "1960835            38  \n",
       "1960947             1  \n",
       "1961240            27  \n",
       "1961303             9  \n",
       "1961308            33  \n",
       "1961432            37  \n",
       "1961487            27  \n",
       "1961521             4  \n",
       "1961558            27  \n",
       "1961662            21  \n",
       "1961668            27  \n",
       "1961712            33  \n",
       "1961794            13  \n",
       "1961973             2  \n",
       "1961982            33  \n",
       "1962149             1  \n",
       "1962185            13  \n",
       "1962284            33  \n",
       "1962291            38  \n",
       "1962421            20  \n",
       "1962521            18  \n",
       "1962617            37  \n",
       "1962663            33  \n",
       "1962696            34  \n",
       "1962711            33  \n",
       "1962738            33  \n",
       "1962835            34  \n",
       "1962919            33  \n",
       "1963002            38  \n",
       "\n",
       "[14715 rows x 14 columns]"
      ]
     },
     "execution_count": 76,
     "metadata": {},
     "output_type": "execute_result"
    }
   ],
   "source": [
    "new_merch[~new_merch.merchant_id.isin(hist_trans['merchant_id'])] "
   ]
  },
  {
   "cell_type": "code",
   "execution_count": null,
   "metadata": {
    "collapsed": true
   },
   "outputs": [],
   "source": []
  }
 ],
 "metadata": {
  "kernelspec": {
   "display_name": "Python 3",
   "language": "python",
   "name": "python3"
  },
  "language_info": {
   "codemirror_mode": {
    "name": "ipython",
    "version": 3
   },
   "file_extension": ".py",
   "mimetype": "text/x-python",
   "name": "python",
   "nbconvert_exporter": "python",
   "pygments_lexer": "ipython3",
   "version": "3.5.0"
  }
 },
 "nbformat": 4,
 "nbformat_minor": 2
}

{
 "cells": [
  {
   "cell_type": "code",
   "execution_count": 44,
   "metadata": {
    "collapsed": true
   },
   "outputs": [],
   "source": [
    "import pandas as pd\n",
    "import os\n",
    "\n",
    "current_dir = os.getcwd()\n",
    "root_path = os.path.join(current_dir, os.pardir, 'data', 'raw')\n",
    "train_path = os.path.join(root_path, 'train.csv')\n",
    "test_path = os.path.join(root_path, 'test.csv')\n",
    "\n",
    "train = pd.read_csv(train_path)"
   ]
  },
  {
   "cell_type": "code",
   "execution_count": 62,
   "metadata": {
    "collapsed": false
   },
   "outputs": [],
   "source": [
    "def one_hot(df, column):\n",
    "    df = pd.concat([df,pd.get_dummies(df[column], prefix=column)],axis=1)\n",
    "    df.drop([column],axis=1, inplace=True)\n",
    "    return df\n",
    "\n",
    "def preprocess(df):\n",
    "    df = one_hot(df, 'feature_1')\n",
    "    df = one_hot(df, 'feature_2')\n",
    "    df = one_hot(df, 'feature_3')\n",
    "    df['year'] = pd.to_datetime(df['first_active_month']).dt.year\n",
    "    df['month'] = pd.to_datetime(df['first_active_month']).dt.month\n",
    "    df['year'].fillna(2017, inplace =True)\n",
    "    df['month'].fillna(df['month'].mean(), inplace =True)\n",
    "    df.drop(['first_active_month'],axis=1, inplace=True)\n",
    "    df.drop(['card_id'],axis=1, inplace=True)  \n",
    "\n",
    "    return df"
   ]
  },
  {
   "cell_type": "code",
   "execution_count": 46,
   "metadata": {
    "collapsed": false
   },
   "outputs": [],
   "source": [
    "train.sample(frac=1).reset_index(drop=True)\n",
    "\n",
    "train = preprocess(train)\n",
    "\n",
    "y = train.pop('target').values\n",
    "X = train.values"
   ]
  },
  {
   "cell_type": "code",
   "execution_count": 47,
   "metadata": {
    "collapsed": false
   },
   "outputs": [
    {
     "data": {
      "text/plain": [
       "3.844234520180109"
      ]
     },
     "execution_count": 47,
     "metadata": {},
     "output_type": "execute_result"
    }
   ],
   "source": [
    "from sklearn.model_selection import GridSearchCV, cross_val_score\n",
    "from sklearn import linear_model\n",
    "import math \n",
    "\n",
    "regr = linear_model.LinearRegression()\n",
    "\n",
    "math.sqrt(-cross_val_score(regr, X, y, scoring='neg_mean_squared_error' , cv=8, n_jobs=8).mean())"
   ]
  },
  {
   "cell_type": "code",
   "execution_count": 83,
   "metadata": {
    "collapsed": false
   },
   "outputs": [
    {
     "data": {
      "text/plain": [
       "3.847732982496437"
      ]
     },
     "execution_count": 83,
     "metadata": {},
     "output_type": "execute_result"
    }
   ],
   "source": [
    "from sklearn import ensemble\n",
    "\n",
    "regr = ensemble.RandomForestRegressor(n_estimators=25)\n",
    "\n",
    "math.sqrt(-cross_val_score(regr, X, y, scoring='neg_mean_squared_error' , cv=20, n_jobs=8).mean())"
   ]
  },
  {
   "cell_type": "code",
   "execution_count": 48,
   "metadata": {
    "collapsed": true
   },
   "outputs": [],
   "source": [
    "test = pd.read_csv(test_path)"
   ]
  },
  {
   "cell_type": "code",
   "execution_count": 63,
   "metadata": {
    "collapsed": false
   },
   "outputs": [],
   "source": [
    "test_labeless = preprocess(test)\n",
    "X_test = test_labeless.values\n",
    "regr.fit(X, y)"
   ]
  },
  {
   "cell_type": "code",
   "execution_count": 81,
   "metadata": {
    "collapsed": false
   },
   "outputs": [],
   "source": [
    "import csv\n",
    "\n",
    "predictions = regr.predict(X_test)\n",
    "output =  os.path.join(current_dir, os.pardir, 'data', 'processed', '.csv')\n",
    "with open(output, 'w') as csvfile:\n",
    "    writer = csv.writer(csvfile, delimiter=',',\n",
    "                            quotechar='|', quoting=csv.QUOTE_MINIMAL)\n",
    "    writer.writerow(['card_id','target'])\n",
    "    for i, row in test.iterrows(): \n",
    "        writer.writerow([row['card_id'], predictions[i]])\n",
    "\n"
   ]
  }
 ],
 "metadata": {
  "kernelspec": {
   "display_name": "Python 3",
   "language": "python",
   "name": "python3"
  },
  "language_info": {
   "codemirror_mode": {
    "name": "ipython",
    "version": 3
   },
   "file_extension": ".py",
   "mimetype": "text/x-python",
   "name": "python",
   "nbconvert_exporter": "python",
   "pygments_lexer": "ipython3",
   "version": "3.5.0"
  }
 },
 "nbformat": 4,
 "nbformat_minor": 2
}
